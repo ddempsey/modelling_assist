{
 "cells": [
  {
   "cell_type": "markdown",
   "metadata": {},
   "source": [
    "# <div style=\"text-align: center\">$\\quad$Wairakei LPM</div>"
   ]
  },
  {
   "cell_type": "markdown",
   "metadata": {},
   "source": [
    "<div style=\"text-align: center\"> <sub>ENGSCI263: Engineering Science Design I</sub></div>\n",
    "\n",
    "$\\,$\n",
    "\n",
    "<div style=\"text-align: center\"> Department of Engineering Science </div>\n",
    "\n",
    "$\\,$\n",
    "\n",
    "<img src=\"img/geothermals.jpg\" alt=\"Drawing\" style=\"width: 800px;\"/>\n"
   ]
  },
  {
   "cell_type": "code",
   "execution_count": null,
   "metadata": {},
   "outputs": [],
   "source": [
    "# imports and environment: this cell must be executed before any other in the notebook\n",
    "%matplotlib inline\n",
    "from wk263 import*"
   ]
  },
  {
   "cell_type": "markdown",
   "metadata": {},
   "source": [
    "Hot water and steam have been extracted from the Wairakei geothermal system for the last 60 years, used to produce clean, renewable electricity. Unfortunately, as water was extracted, pressure in the reservoir started to rapidly drop. Each year, it became harder and harder to pull more water out.\n",
    "\n",
    "In 1965, reservoir engineers realised there was a problem and began a large-scale program of reinjection. The spent geothermal water, once it had been used to generate electicity, was pumped back underground. The result was stabilisation of the reservoir pressure.\n",
    "\n",
    "Fortunately, much of this data is avaliable to help us develop a model of the system.\n",
    "\n",
    "***Execute the cell below and answer the questions.***"
   ]
  },
  {
   "cell_type": "code",
   "execution_count": null,
   "metadata": {
    "scrolled": false
   },
   "outputs": [],
   "source": [
    "wairakei_data()"
   ]
  },
  {
   "cell_type": "code",
   "execution_count": null,
   "metadata": {},
   "outputs": [],
   "source": [
    "# From 1965, the production rate declines but is still quite high. \n",
    "\n",
    "# Suggest a reason why the pressure eventually stops declining.\n",
    "# (Think about supplying heat to the centre of a metal plate - the temperature\n",
    "# can't keep going up forever...)\n",
    "\n",
    "# Does one of these curves 'cause' the other?\n",
    "\n",
    "# If we were to build a model of the reservoir, would 'production' be an input \n",
    "# or an output? What about 'pressure'?\n"
   ]
  },
  {
   "cell_type": "markdown",
   "metadata": {},
   "source": [
    "\n",
    "[Fradkin et al. [1981]](http://onlinelibrary.wiley.com/doi/10.1029/WR017i004p00929/full) introduced the **slow drainage** model for the Wairakei geothermal system.\n",
    "\n",
    "1. Initially, the reservoir pressure is in equilibrium with the surrounding rock.\n",
    "2. Water can **exit** the volume (usually from wells drilled into the middle). When it does, the pressure goes **down**. (Source/sink).\n",
    "3. When the pressure drops, more water will try to **enter** the volume (usually at the base or the sides). When it does this, the pressure goes **up**. (Recharge).\n",
    "4. The pressure drop due to extracting water is not immediate. Rather, there is a delay over time called \"slow drainage\". This introduces a dependence on the **rate of change of extraction rate**.\n",
    "\n",
    "The lumped parameter model for a reservoir with slow drainage is:\n",
    "\n",
    "$$ \\frac{dP}{dt} = - a q - b (P-P_0) - c \\frac{dq}{dt}$$\n",
    "\n",
    "were $P$ is the reservoir pressure, $q$ is the extraction rate from the reservoir, and $a$, $b$ and $c$ are unknown parameters that depend on the reservoir.\n",
    "\n",
    "***Execute the cell below.***"
   ]
  },
  {
   "cell_type": "code",
   "execution_count": null,
   "metadata": {},
   "outputs": [],
   "source": [
    "lpm_demo()"
   ]
  },
  {
   "cell_type": "markdown",
   "metadata": {},
   "source": [
    "The slow drainage LPM has been implemented and fit through the Wairakei data below.\n",
    "\n",
    "***Execute the cell below and answer the questions.***"
   ]
  },
  {
   "cell_type": "code",
   "execution_count": null,
   "metadata": {},
   "outputs": [],
   "source": [
    "lpm_model()"
   ]
  },
  {
   "cell_type": "code",
   "execution_count": null,
   "metadata": {},
   "outputs": [],
   "source": [
    "# In this model, P is given in bar, time in years, q in kg/s, and dqdt in kg/s/year. \n",
    "# What are the dimensions of parameters 'a', 'b' and 'c'? What are the equivalent SI units?"
   ]
  },
  {
   "cell_type": "markdown",
   "metadata": {},
   "source": [
    "In fact, there is some uncertainty in the measured pressure data. Reservoir engineers estimate the error variance could be as large as 2 bar. Thus, it seems reasonable that there are a range of models - a range for 'a', 'b' and 'c' - that could fit the data.\n",
    "\n",
    "***Execute the cell below and answer the questions.***"
   ]
  },
  {
   "cell_type": "code",
   "execution_count": null,
   "metadata": {},
   "outputs": [],
   "source": [
    "lpm_models()"
   ]
  },
  {
   "cell_type": "code",
   "execution_count": null,
   "metadata": {},
   "outputs": [],
   "source": [
    "# Move the slider bars to determine acceptable ranges for the parameters 'a', 'b' and 'c'.\n",
    "\n",
    "# Set the slider bars to their original positions.\n",
    "\n",
    "# Change 'a' to 0.00264. Is this an acceptable model?\n",
    "\n",
    "# Leave 'a' as 0.00264 and change 'b' to 0.132. Is this an acceptable model?\n",
    "\n",
    "# Is a=0.00264 a plausible parameter value? Justify your answer.\n"
   ]
  },
  {
   "cell_type": "markdown",
   "metadata": {},
   "source": [
    "Earlier we estimated the best fit values of $a$, $b$, and $c$ that parameterise a lumped parameter model of the Wairakei geothermal system. However, because the pressure data used to calibrate the model are uncertain, so too must be our estimates of the parameters.\n",
    "\n",
    "We will proceed by proposing a **prior distribution** for each of these parameters. As we have some information about the parameters - an idea of which values fit the data quite well - we will consider a normally distributed prior for each, centred on the best-fit value. \n",
    "\n",
    "\n",
    "***Execute the cell below and answer the questions.***"
   ]
  },
  {
   "cell_type": "code",
   "execution_count": null,
   "metadata": {},
   "outputs": [],
   "source": [
    "lpm_posterior()"
   ]
  },
  {
   "cell_type": "code",
   "execution_count": null,
   "metadata": {},
   "outputs": [],
   "source": [
    "# Move the deviation sliders to widen or narrow priors of a, b and c.\n",
    "\n",
    "# Add additional model samples by moving the 'samples' slider.\n",
    "\n",
    "# Obtain defensible prior distributions for 'a', 'b', and 'c'.\n",
    "\n",
    "# An implicit assumption of this approach is that 'a', 'b', and 'c' are uncorrelated.\n",
    "# What does this mean? (review the linear model example)\n",
    "\n",
    "# As more model samples are generated, the histograms on the RHS start to approximate the \n",
    "# theoretical distribution."
   ]
  },
  {
   "cell_type": "markdown",
   "metadata": {},
   "source": [
    "Above, we estimated prior distributions for the model parameters, $a$, $b$, and $c$. To make a prediction of the future, we need only sample each of those distributions and pass those parameter values into the model. \n",
    "\n",
    "As an exercise, we shall attempt to \"predict\" the pressure in the reservoir in 2012. This is something the good folk back in 1981 may have tried to do when, say, reconsenting Wairakei for the next 30 years.\n",
    "\n",
    "Of course, since we actually have pressure measurements up to 2012, we'll be able to verify our forecast...\n",
    "\n",
    "***Execute the cell below and answer the questions.***"
   ]
  },
  {
   "cell_type": "code",
   "execution_count": null,
   "metadata": {},
   "outputs": [],
   "source": [
    "sa = 1.1e-4\n",
    "sb = 5.5e-3\n",
    "sc = 1.7e-3\n",
    "lpm_prediction(sa,sb,sc)"
   ]
  },
  {
   "cell_type": "code",
   "execution_count": null,
   "metadata": {},
   "outputs": [],
   "source": [
    "# Set prior width values sa, sb and sc in the cell above, then execute. You should obtain\n",
    "# these values from the exercise in Section 3.2.4, see the TITLE of that plot for exact values.\n",
    "\n",
    "# The lefthand figure samples the prior and extrapolates models out to 2012 (using the \n",
    "# actual flow-rate, bit of an inconsistency there...)\n",
    "\n",
    "# The righthand figure shows a forecast of reservoir pressure in 2012.\n",
    "\n",
    "# Use the slider bar to add more models. How does the shape and width of the forecast change?\n",
    "\n",
    "# Click the \"reveal future\" button to compare your forecast against the actual data. \n",
    "# How did you do?\n",
    "\n",
    "# Speculate on any discrepancy between your forecast and the actual outcome."
   ]
  },
  {
   "cell_type": "markdown",
   "metadata": {},
   "source": [
    "Sometimes, a self-proclaimed \"expert\" will assert that they **know** the value of a parameter. Maybe they do (to within some degree of accuracy). Maybe they don't and they're just an idiot. Most often, they don't, but they're a pragmatist that realises not *everything* can be treated as a free parameter for calibration.\n",
    "\n",
    "Nevertheless, as soon as you fix a parameter to an incorrect value, you will introduce **structural error** into a model. Let's look at an example involving calibration and prediction.\n",
    "\n",
    "Suppose we \"know\" the value of the parameter $c$ for the lumped parameter model. Great! Now we only need to calibrate two other parameters, $a$ and $b$, which won't take nearly as long.\n",
    "\n",
    "Unfortunately, we picked the wrong value for $c$. Which means that, during calibration, values of $a$ and $b$ will end up **taking on best-fit values that are different to what they would otherwise have been** had we used a different value of $c$. This will ultimately affect our ability to make a prediction of the future (and to correctly characterise $a$ and $b$!)\n",
    "\n",
    "***Execute the cell below and answer the questions.***"
   ]
  },
  {
   "cell_type": "code",
   "execution_count": null,
   "metadata": {},
   "outputs": [],
   "source": [
    "lpm_structural()"
   ]
  },
  {
   "cell_type": "code",
   "execution_count": null,
   "metadata": {},
   "outputs": [],
   "source": [
    "# The code above takes a FIXED value of c, and then calculates a and b\n",
    "# that best fit the data. Use the slider to change the input value of c.\n",
    "\n",
    "# How does the quality of the calibration change?\n",
    "\n",
    "# How do the parameter values a and b change?\n",
    "\n",
    "# How does the prediction of the future change?\n",
    "\n",
    "# How does making a decision to fix a particular parameter value for c affect our ability\n",
    "# to make a prediction of the future?\n",
    "\n",
    "# We can think about calibration as an exercise in inverse modelling. That is, we are\n",
    "# seeking the \"true\" values of 'a' and 'b' because they're too difficult to measure by\n",
    "# other (more direct) means.\n",
    "\n",
    "# How does making a decision to fix a particular parameter value for c affect our ability\n",
    "# to do inverse modelling?\n"
   ]
  }
 ],
 "metadata": {
  "kernelspec": {
   "display_name": "Python 3",
   "language": "python",
   "name": "python3"
  },
  "language_info": {
   "codemirror_mode": {
    "name": "ipython",
    "version": 3
   },
   "file_extension": ".py",
   "mimetype": "text/x-python",
   "name": "python",
   "nbconvert_exporter": "python",
   "pygments_lexer": "ipython3",
   "version": "3.6.4"
  }
 },
 "nbformat": 4,
 "nbformat_minor": 2
}
